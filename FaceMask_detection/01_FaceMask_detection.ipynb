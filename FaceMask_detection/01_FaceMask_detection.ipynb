{
 "cells": [
  {
   "cell_type": "code",
   "id": "initial_id",
   "metadata": {
    "collapsed": true,
    "ExecuteTime": {
     "end_time": "2025-06-30T17:44:16.265345Z",
     "start_time": "2025-06-30T17:44:16.246111Z"
    }
   },
   "source": [
    "import os\n",
    "import numpy as np\n",
    "import tensorflow as tf\n",
    "import random\n",
    "import cv2 as cv"
   ],
   "outputs": [],
   "execution_count": 17
  },
  {
   "metadata": {
    "ExecuteTime": {
     "end_time": "2025-06-30T17:44:16.296716Z",
     "start_time": "2025-06-30T17:44:16.283513Z"
    }
   },
   "cell_type": "code",
   "source": [
    "def list_files(dir_path  = 'dataset',img_ext ='.jpg'):\n",
    "\n",
    "    files =  []\n",
    "    discarded = 0\n",
    "    masked_instance = 0\n",
    "    for r,d,f in os.walk(dir_path):\n",
    "        for file in f:\n",
    "            if file.endswith('.txt'):\n",
    "                with open(os.path.join(dir_path,file),'r') as fp:\n",
    "                    lines = fp.readlines()\n",
    "                    if len(lines) >1:\n",
    "                        discarded +=1\n",
    "                        continue\n",
    "\n",
    "                strip = file.strip('.txt')\n",
    "\n",
    "                image_path  = os.path.join(r,strip+img_ext)\n",
    "                if os.path.exists(image_path):\n",
    "                    if lines[0][0] == '0':\n",
    "                        masked_instance +=1\n",
    "\n",
    "                    files.append(strip)\n",
    "\n",
    "    train_len = int(len(files)*0.7)\n",
    "    val_len = int(len(files)*0.2)\n",
    "\n",
    "    random.shuffle(files)\n",
    "\n",
    "\n",
    "\n",
    "    return files[:train_len],files[train_len:train_len+val_len],files[train_len+val_len:]\n"
   ],
   "id": "8116b83f35544559",
   "outputs": [],
   "execution_count": 18
  },
  {
   "metadata": {
    "ExecuteTime": {
     "end_time": "2025-06-30T17:44:16.494808Z",
     "start_time": "2025-06-30T17:44:16.314438Z"
    }
   },
   "cell_type": "code",
   "source": "training_files, validation_files, test_files = list_files()",
   "id": "52443b67897d28e7",
   "outputs": [],
   "execution_count": 19
  },
  {
   "metadata": {
    "ExecuteTime": {
     "end_time": "2025-06-30T17:44:16.525936Z",
     "start_time": "2025-06-30T17:44:16.512348Z"
    }
   },
   "cell_type": "code",
   "source": [
    "input_size = 244\n",
    "\n",
    "def format_image(img, box):\n",
    "    height, width = img.shape\n",
    "    max_size = max(height, width)\n",
    "    r = max_size / input_size\n",
    "    new_width = int(width / r)\n",
    "    new_height = int(height / r)\n",
    "    new_size = (new_width, new_height)\n",
    "    resized = cv.resize(img, new_size, interpolation= cv.INTER_LINEAR)\n",
    "    new_image = np.zeros((input_size, input_size), dtype=np.uint8)\n",
    "    new_image[0:new_height, 0:new_width] = resized\n",
    "\n",
    "    x, y, w, h = box[0], box[1], box[2], box[3]\n",
    "    new_box = [int((x - 0.5*w)* width / r), int((y - 0.5*h) * height / r), int(w*width / r), int(h*height / r)]\n",
    "\n",
    "    return new_image, new_box"
   ],
   "id": "cc4d14b3d59f6790",
   "outputs": [],
   "execution_count": 20
  },
  {
   "metadata": {
    "ExecuteTime": {
     "end_time": "2025-06-30T17:44:16.556596Z",
     "start_time": "2025-06-30T17:44:16.543592Z"
    }
   },
   "cell_type": "code",
   "source": [
    "def data_load(files, full_data_path = \"dataset\", image_ext = \".jpg\"):\n",
    "    X = []\n",
    "    Y = []\n",
    "\n",
    "    for file in files:\n",
    "        img = cv.imread(os.path.join(full_data_path, file + image_ext), cv.IMREAD_GRAYSCALE)\n",
    "\n",
    "        k = 1\n",
    "\n",
    "        with open(full_data_path + \"/\" + file + \".txt\", 'r') as fp:\n",
    "            line = fp.readlines()[0]\n",
    "            if line[0] == '0':\n",
    "                k = 0\n",
    "\n",
    "            box = np.array(line[1:].split(), dtype=float)\n",
    "\n",
    "        img, box = format_image(img, box)\n",
    "        img = img.astype(float) / 255.\n",
    "        box = np.asarray(box, dtype=float) / input_size\n",
    "        label = np.append(box, k)\n",
    "\n",
    "        X.append(img)\n",
    "        Y.append(label)\n",
    "\n",
    "    X = np.array(X)\n",
    "\n",
    "    X = np.expand_dims(X, axis=3)\n",
    "\n",
    "    X = tf.convert_to_tensor(X, dtype=tf.float32)\n",
    "\n",
    "    Y = tf.convert_to_tensor(Y, dtype=tf.float32)\n",
    "\n",
    "    result = tf.data.Dataset.from_tensor_slices((X, Y))\n",
    "\n",
    "    return result"
   ],
   "id": "bb61ac6cc53edcc4",
   "outputs": [],
   "execution_count": 21
  },
  {
   "metadata": {
    "ExecuteTime": {
     "end_time": "2025-06-30T17:44:22.629457Z",
     "start_time": "2025-06-30T17:44:16.573295Z"
    }
   },
   "cell_type": "code",
   "source": "raw_train_ds = data_load(training_files)",
   "id": "690ead52cc88e7f4",
   "outputs": [],
   "execution_count": 22
  },
  {
   "metadata": {
    "ExecuteTime": {
     "end_time": "2025-06-30T17:44:23.645814Z",
     "start_time": "2025-06-30T17:44:22.662521Z"
    }
   },
   "cell_type": "code",
   "source": "raw_validation_ds = data_load(validation_files)",
   "id": "d35c9cc1aaa05419",
   "outputs": [],
   "execution_count": 23
  },
  {
   "metadata": {
    "ExecuteTime": {
     "end_time": "2025-06-30T17:44:24.134826Z",
     "start_time": "2025-06-30T17:44:23.662868Z"
    }
   },
   "cell_type": "code",
   "source": "raw_test_ds = data_load(test_files)",
   "id": "c66069933d7e46a4",
   "outputs": [],
   "execution_count": 24
  },
  {
   "metadata": {
    "ExecuteTime": {
     "end_time": "2025-06-30T17:44:24.166209Z",
     "start_time": "2025-06-30T17:44:24.152910Z"
    }
   },
   "cell_type": "code",
   "source": [
    "CLASSES = 2\n",
    "\n",
    "def format_instance(image, label):\n",
    "    return image, (tf.one_hot(int(label[4]), CLASSES), [label[0], label[1], label[2], label[3]])"
   ],
   "id": "e9c4b414f58fbe29",
   "outputs": [],
   "execution_count": 25
  },
  {
   "metadata": {
    "ExecuteTime": {
     "end_time": "2025-06-30T17:44:24.230209Z",
     "start_time": "2025-06-30T17:44:24.184209Z"
    }
   },
   "cell_type": "code",
   "source": [
    "from tensorflow.keras import layers\n",
    "\n",
    "data_augmentation = tf.keras.Sequential([\n",
    "  layers.RandomFlip(\"horizontal\"),\n",
    "  layers.RandomRotation(0.1),\n",
    "  layers.RandomZoom(0.1),\n",
    "], name=\"data_augmentation\")"
   ],
   "id": "89249b4d5fc3764b",
   "outputs": [],
   "execution_count": 26
  },
  {
   "metadata": {
    "ExecuteTime": {
     "end_time": "2025-06-30T17:44:24.277185Z",
     "start_time": "2025-06-30T17:44:24.263677Z"
    }
   },
   "cell_type": "code",
   "source": [
    "BATCH_SIZE = 32\n",
    "\n",
    "def tune_training_ds(dataset):\n",
    "    dataset = dataset.map(format_instance, num_parallel_calls=tf.data.AUTOTUNE)\n",
    "    dataset = dataset.shuffle(1024, reshuffle_each_iteration=True)\n",
    "    dataset = dataset.repeat()\n",
    "    dataset = dataset.batch(BATCH_SIZE)\n",
    "    dataset = dataset.map(lambda x, y: (data_augmentation(x, training=True), y),\n",
    "                          num_parallel_calls=tf.data.AUTOTUNE)\n",
    "    dataset = dataset.prefetch(tf.data.AUTOTUNE)\n",
    "    return dataset"
   ],
   "id": "1be9e6a7ec38615d",
   "outputs": [],
   "execution_count": 27
  },
  {
   "metadata": {
    "ExecuteTime": {
     "end_time": "2025-06-30T17:44:25.690193Z",
     "start_time": "2025-06-30T17:44:24.295184Z"
    }
   },
   "cell_type": "code",
   "source": "train_ds = tune_training_ds(raw_train_ds)",
   "id": "68f689a96e6e50dc",
   "outputs": [
    {
     "name": "stdout",
     "output_type": "stream",
     "text": [
      "WARNING:tensorflow:Using a while_loop for converting RngReadAndSkip cause there is no registered converter for this op.\n",
      "WARNING:tensorflow:Using a while_loop for converting Bitcast cause there is no registered converter for this op.\n",
      "WARNING:tensorflow:Using a while_loop for converting Bitcast cause there is no registered converter for this op.\n",
      "WARNING:tensorflow:Using a while_loop for converting StatelessRandomUniformV2 cause there is no registered converter for this op.\n",
      "WARNING:tensorflow:Using a while_loop for converting ImageProjectiveTransformV3 cause there is no registered converter for this op.\n",
      "WARNING:tensorflow:Using a while_loop for converting RngReadAndSkip cause there is no registered converter for this op.\n",
      "WARNING:tensorflow:Using a while_loop for converting Bitcast cause there is no registered converter for this op.\n",
      "WARNING:tensorflow:Using a while_loop for converting Bitcast cause there is no registered converter for this op.\n",
      "WARNING:tensorflow:Using a while_loop for converting StatelessRandomUniformV2 cause there is no registered converter for this op.\n",
      "WARNING:tensorflow:Using a while_loop for converting ImageProjectiveTransformV3 cause there is no registered converter for this op.\n",
      "WARNING:tensorflow:Using a while_loop for converting RngReadAndSkip cause there is no registered converter for this op.\n",
      "WARNING:tensorflow:Using a while_loop for converting Bitcast cause there is no registered converter for this op.\n",
      "WARNING:tensorflow:Using a while_loop for converting Bitcast cause there is no registered converter for this op.\n",
      "WARNING:tensorflow:Using a while_loop for converting StatelessRandomUniformV2 cause there is no registered converter for this op.\n",
      "WARNING:tensorflow:Using a while_loop for converting ImageProjectiveTransformV3 cause there is no registered converter for this op.\n",
      "WARNING:tensorflow:Using a while_loop for converting RngReadAndSkip cause there is no registered converter for this op.\n",
      "WARNING:tensorflow:Using a while_loop for converting Bitcast cause there is no registered converter for this op.\n",
      "WARNING:tensorflow:Using a while_loop for converting Bitcast cause there is no registered converter for this op.\n",
      "WARNING:tensorflow:Using a while_loop for converting StatelessRandomUniformV2 cause there is no registered converter for this op.\n",
      "WARNING:tensorflow:Using a while_loop for converting ImageProjectiveTransformV3 cause there is no registered converter for this op.\n"
     ]
    }
   ],
   "execution_count": 28
  },
  {
   "metadata": {
    "ExecuteTime": {
     "end_time": "2025-06-30T17:44:25.721745Z",
     "start_time": "2025-06-30T17:44:25.708063Z"
    }
   },
   "cell_type": "code",
   "source": [
    "def tune_validation_ds(dataset):\n",
    "    dataset = dataset.map(format_instance, num_parallel_calls=tf.data.AUTOTUNE)\n",
    "    dataset = dataset.batch(len(validation_files) // 4)\n",
    "    dataset = dataset.repeat()\n",
    "    return dataset"
   ],
   "id": "d179a963cec1b998",
   "outputs": [],
   "execution_count": 29
  },
  {
   "metadata": {
    "ExecuteTime": {
     "end_time": "2025-06-30T17:44:25.767514Z",
     "start_time": "2025-06-30T17:44:25.739289Z"
    }
   },
   "cell_type": "code",
   "source": "validation_ds = tune_validation_ds(raw_validation_ds)",
   "id": "11a19d88f97d2312",
   "outputs": [],
   "execution_count": 30
  },
  {
   "metadata": {
    "ExecuteTime": {
     "end_time": "2025-06-30T17:44:25.798279Z",
     "start_time": "2025-06-30T17:44:25.783837Z"
    }
   },
   "cell_type": "code",
   "source": [
    "DROPOUT_FACTOR = 0.5\n",
    "\n",
    "def build_feature_extractor(inputs):\n",
    "\n",
    "    x = tf.keras.layers.Conv2D(16, kernel_size=3, activation='relu', input_shape=(input_size, input_size, 1))(inputs)\n",
    "    x = tf.keras.layers.AveragePooling2D(2,2)(x)\n",
    "\n",
    "    x = tf.keras.layers.Conv2D(32, kernel_size=3, activation = 'relu')(x)\n",
    "    x = tf.keras.layers.AveragePooling2D(2,2)(x)\n",
    "\n",
    "    x = tf.keras.layers.Conv2D(64, kernel_size=3, activation = 'relu')(x)\n",
    "    x = tf.keras.layers.Dropout(DROPOUT_FACTOR)(x)\n",
    "    x = tf.keras.layers.AveragePooling2D(2,2)(x)\n",
    "\n",
    "    return x\n",
    "\n",
    "def build_model_adaptor(inputs):\n",
    "    x = tf.keras.layers.Flatten()(inputs)\n",
    "    x = tf.keras.layers.Dense(64, activation='relu')(x)\n",
    "    return x\n",
    "\n",
    "def build_classifier_head(inputs):\n",
    "    return tf.keras.layers.Dense(CLASSES, activation='softmax', name = 'classifier_head')(inputs)\n",
    "\n",
    "def build_regressor_head(inputs):\n",
    "    return tf.keras.layers.Dense(units = '4', name = 'regressor_head')(inputs)\n",
    "\n",
    "def build_model(inputs):\n",
    "\n",
    "    feature_extractor = build_feature_extractor(inputs)\n",
    "\n",
    "    model_adaptor = build_model_adaptor(feature_extractor)\n",
    "\n",
    "    classification_head = build_classifier_head(model_adaptor)\n",
    "\n",
    "    regressor_head = build_regressor_head(model_adaptor)\n",
    "\n",
    "    model = tf.keras.Model(inputs = inputs, outputs = [classification_head, regressor_head])\n",
    "\n",
    "    model.compile(optimizer=tf.keras.optimizers.Adam(),\n",
    "              loss = {'classifier_head' : 'categorical_crossentropy', 'regressor_head' : 'mse' },\n",
    "              metrics = {'classifier_head' : 'accuracy', 'regressor_head' : 'mse' })\n",
    "\n",
    "    return model"
   ],
   "id": "9534d5c3434669c8",
   "outputs": [],
   "execution_count": 31
  },
  {
   "metadata": {
    "ExecuteTime": {
     "end_time": "2025-06-30T17:44:25.905778Z",
     "start_time": "2025-06-30T17:44:25.815834Z"
    }
   },
   "cell_type": "code",
   "source": [
    "model = build_model(tf.keras.layers.Input(shape=(input_size, input_size, 1,)))\n",
    "\n",
    "model.summary()"
   ],
   "id": "f67475cbf97d6758",
   "outputs": [
    {
     "name": "stdout",
     "output_type": "stream",
     "text": [
      "Model: \"model_1\"\n",
      "__________________________________________________________________________________________________\n",
      " Layer (type)                   Output Shape         Param #     Connected to                     \n",
      "==================================================================================================\n",
      " input_2 (InputLayer)           [(None, 244, 244, 1  0           []                               \n",
      "                                )]                                                                \n",
      "                                                                                                  \n",
      " conv2d_3 (Conv2D)              (None, 242, 242, 16  160         ['input_2[0][0]']                \n",
      "                                )                                                                 \n",
      "                                                                                                  \n",
      " average_pooling2d_3 (AveragePo  (None, 121, 121, 16  0          ['conv2d_3[0][0]']               \n",
      " oling2D)                       )                                                                 \n",
      "                                                                                                  \n",
      " conv2d_4 (Conv2D)              (None, 119, 119, 32  4640        ['average_pooling2d_3[0][0]']    \n",
      "                                )                                                                 \n",
      "                                                                                                  \n",
      " average_pooling2d_4 (AveragePo  (None, 59, 59, 32)  0           ['conv2d_4[0][0]']               \n",
      " oling2D)                                                                                         \n",
      "                                                                                                  \n",
      " conv2d_5 (Conv2D)              (None, 57, 57, 64)   18496       ['average_pooling2d_4[0][0]']    \n",
      "                                                                                                  \n",
      " dropout_1 (Dropout)            (None, 57, 57, 64)   0           ['conv2d_5[0][0]']               \n",
      "                                                                                                  \n",
      " average_pooling2d_5 (AveragePo  (None, 28, 28, 64)  0           ['dropout_1[0][0]']              \n",
      " oling2D)                                                                                         \n",
      "                                                                                                  \n",
      " flatten_1 (Flatten)            (None, 50176)        0           ['average_pooling2d_5[0][0]']    \n",
      "                                                                                                  \n",
      " dense_1 (Dense)                (None, 64)           3211328     ['flatten_1[0][0]']              \n",
      "                                                                                                  \n",
      " classifier_head (Dense)        (None, 2)            130         ['dense_1[0][0]']                \n",
      "                                                                                                  \n",
      " regressor_head (Dense)         (None, 4)            260         ['dense_1[0][0]']                \n",
      "                                                                                                  \n",
      "==================================================================================================\n",
      "Total params: 3,235,014\n",
      "Trainable params: 3,235,014\n",
      "Non-trainable params: 0\n",
      "__________________________________________________________________________________________________\n"
     ]
    }
   ],
   "execution_count": 32
  },
  {
   "metadata": {
    "ExecuteTime": {
     "end_time": "2025-06-30T17:46:14.810287Z",
     "start_time": "2025-06-30T17:44:25.922974Z"
    }
   },
   "cell_type": "code",
   "source": [
    "EPOCHS = 100\n",
    "\n",
    "history = model.fit(train_ds,\n",
    "                    steps_per_epoch=(len(training_files) // BATCH_SIZE),\n",
    "                    validation_data=validation_ds, validation_steps=1,\n",
    "                    epochs=EPOCHS)"
   ],
   "id": "d3c07790364c0e90",
   "outputs": [
    {
     "name": "stdout",
     "output_type": "stream",
     "text": [
      "Epoch 1/100\n",
      "28/28 [==============================] - 3s 49ms/step - loss: 0.9247 - classifier_head_loss: 0.6794 - regressor_head_loss: 0.2453 - classifier_head_accuracy: 0.6083 - regressor_head_mse: 0.2453 - val_loss: 0.7096 - val_classifier_head_loss: 0.6725 - val_regressor_head_loss: 0.0371 - val_classifier_head_accuracy: 0.5781 - val_regressor_head_mse: 0.0371\n",
      "Epoch 2/100\n",
      "28/28 [==============================] - 1s 38ms/step - loss: 0.6533 - classifier_head_loss: 0.6258 - regressor_head_loss: 0.0275 - classifier_head_accuracy: 0.6283 - regressor_head_mse: 0.0275 - val_loss: 0.7016 - val_classifier_head_loss: 0.6809 - val_regressor_head_loss: 0.0207 - val_classifier_head_accuracy: 0.5781 - val_regressor_head_mse: 0.0207\n",
      "Epoch 3/100\n",
      "28/28 [==============================] - 1s 39ms/step - loss: 0.6277 - classifier_head_loss: 0.6039 - regressor_head_loss: 0.0237 - classifier_head_accuracy: 0.6306 - regressor_head_mse: 0.0237 - val_loss: 0.7047 - val_classifier_head_loss: 0.6895 - val_regressor_head_loss: 0.0152 - val_classifier_head_accuracy: 0.5781 - val_regressor_head_mse: 0.0152\n",
      "Epoch 4/100\n",
      "28/28 [==============================] - 1s 39ms/step - loss: 0.6192 - classifier_head_loss: 0.5987 - regressor_head_loss: 0.0205 - classifier_head_accuracy: 0.6373 - regressor_head_mse: 0.0205 - val_loss: 0.7381 - val_classifier_head_loss: 0.7173 - val_regressor_head_loss: 0.0207 - val_classifier_head_accuracy: 0.5938 - val_regressor_head_mse: 0.0207\n",
      "Epoch 5/100\n",
      "28/28 [==============================] - 1s 38ms/step - loss: 0.5941 - classifier_head_loss: 0.5737 - regressor_head_loss: 0.0204 - classifier_head_accuracy: 0.7188 - regressor_head_mse: 0.0204 - val_loss: 0.6670 - val_classifier_head_loss: 0.6527 - val_regressor_head_loss: 0.0143 - val_classifier_head_accuracy: 0.5938 - val_regressor_head_mse: 0.0143\n",
      "Epoch 6/100\n",
      "28/28 [==============================] - 1s 39ms/step - loss: 0.5782 - classifier_head_loss: 0.5592 - regressor_head_loss: 0.0191 - classifier_head_accuracy: 0.7344 - regressor_head_mse: 0.0191 - val_loss: 0.6697 - val_classifier_head_loss: 0.6546 - val_regressor_head_loss: 0.0151 - val_classifier_head_accuracy: 0.6094 - val_regressor_head_mse: 0.0151\n",
      "Epoch 7/100\n",
      "28/28 [==============================] - 1s 37ms/step - loss: 0.5678 - classifier_head_loss: 0.5475 - regressor_head_loss: 0.0203 - classifier_head_accuracy: 0.7366 - regressor_head_mse: 0.0203 - val_loss: 0.7724 - val_classifier_head_loss: 0.7573 - val_regressor_head_loss: 0.0151 - val_classifier_head_accuracy: 0.6094 - val_regressor_head_mse: 0.0151\n",
      "Epoch 8/100\n",
      "28/28 [==============================] - 1s 38ms/step - loss: 0.5413 - classifier_head_loss: 0.5202 - regressor_head_loss: 0.0212 - classifier_head_accuracy: 0.7600 - regressor_head_mse: 0.0212 - val_loss: 0.6794 - val_classifier_head_loss: 0.6645 - val_regressor_head_loss: 0.0149 - val_classifier_head_accuracy: 0.6250 - val_regressor_head_mse: 0.0149\n",
      "Epoch 9/100\n",
      "28/28 [==============================] - 1s 38ms/step - loss: 0.5089 - classifier_head_loss: 0.4862 - regressor_head_loss: 0.0227 - classifier_head_accuracy: 0.7656 - regressor_head_mse: 0.0227 - val_loss: 0.8084 - val_classifier_head_loss: 0.7878 - val_regressor_head_loss: 0.0206 - val_classifier_head_accuracy: 0.6250 - val_regressor_head_mse: 0.0206\n",
      "Epoch 10/100\n",
      "28/28 [==============================] - 1s 37ms/step - loss: 0.4545 - classifier_head_loss: 0.4367 - regressor_head_loss: 0.0178 - classifier_head_accuracy: 0.8304 - regressor_head_mse: 0.0178 - val_loss: 0.7376 - val_classifier_head_loss: 0.7216 - val_regressor_head_loss: 0.0160 - val_classifier_head_accuracy: 0.5938 - val_regressor_head_mse: 0.0160\n",
      "Epoch 11/100\n",
      "28/28 [==============================] - 1s 38ms/step - loss: 0.4511 - classifier_head_loss: 0.4333 - regressor_head_loss: 0.0178 - classifier_head_accuracy: 0.8292 - regressor_head_mse: 0.0178 - val_loss: 0.7163 - val_classifier_head_loss: 0.7006 - val_regressor_head_loss: 0.0157 - val_classifier_head_accuracy: 0.6875 - val_regressor_head_mse: 0.0157\n",
      "Epoch 12/100\n",
      "28/28 [==============================] - 1s 38ms/step - loss: 0.4181 - classifier_head_loss: 0.4022 - regressor_head_loss: 0.0159 - classifier_head_accuracy: 0.8326 - regressor_head_mse: 0.0159 - val_loss: 0.8426 - val_classifier_head_loss: 0.8289 - val_regressor_head_loss: 0.0138 - val_classifier_head_accuracy: 0.6406 - val_regressor_head_mse: 0.0138\n",
      "Epoch 13/100\n",
      "28/28 [==============================] - 1s 38ms/step - loss: 0.3989 - classifier_head_loss: 0.3842 - regressor_head_loss: 0.0147 - classifier_head_accuracy: 0.8371 - regressor_head_mse: 0.0147 - val_loss: 0.7780 - val_classifier_head_loss: 0.7621 - val_regressor_head_loss: 0.0159 - val_classifier_head_accuracy: 0.6875 - val_regressor_head_mse: 0.0159\n",
      "Epoch 14/100\n",
      "28/28 [==============================] - 1s 38ms/step - loss: 0.3739 - classifier_head_loss: 0.3597 - regressor_head_loss: 0.0142 - classifier_head_accuracy: 0.8516 - regressor_head_mse: 0.0142 - val_loss: 0.6855 - val_classifier_head_loss: 0.6713 - val_regressor_head_loss: 0.0143 - val_classifier_head_accuracy: 0.6875 - val_regressor_head_mse: 0.0143\n",
      "Epoch 15/100\n",
      "28/28 [==============================] - 1s 38ms/step - loss: 0.3915 - classifier_head_loss: 0.3773 - regressor_head_loss: 0.0142 - classifier_head_accuracy: 0.8359 - regressor_head_mse: 0.0142 - val_loss: 0.7928 - val_classifier_head_loss: 0.7789 - val_regressor_head_loss: 0.0139 - val_classifier_head_accuracy: 0.6719 - val_regressor_head_mse: 0.0139\n",
      "Epoch 16/100\n",
      "28/28 [==============================] - 1s 38ms/step - loss: 0.3528 - classifier_head_loss: 0.3377 - regressor_head_loss: 0.0151 - classifier_head_accuracy: 0.8583 - regressor_head_mse: 0.0151 - val_loss: 1.0511 - val_classifier_head_loss: 1.0330 - val_regressor_head_loss: 0.0181 - val_classifier_head_accuracy: 0.6250 - val_regressor_head_mse: 0.0181\n",
      "Epoch 17/100\n",
      "28/28 [==============================] - 1s 37ms/step - loss: 0.3981 - classifier_head_loss: 0.3838 - regressor_head_loss: 0.0143 - classifier_head_accuracy: 0.8382 - regressor_head_mse: 0.0143 - val_loss: 0.6486 - val_classifier_head_loss: 0.6344 - val_regressor_head_loss: 0.0143 - val_classifier_head_accuracy: 0.6875 - val_regressor_head_mse: 0.0143\n",
      "Epoch 18/100\n",
      "28/28 [==============================] - 1s 39ms/step - loss: 0.3348 - classifier_head_loss: 0.3216 - regressor_head_loss: 0.0132 - classifier_head_accuracy: 0.8806 - regressor_head_mse: 0.0132 - val_loss: 0.8103 - val_classifier_head_loss: 0.7956 - val_regressor_head_loss: 0.0147 - val_classifier_head_accuracy: 0.6562 - val_regressor_head_mse: 0.0147\n",
      "Epoch 19/100\n",
      "28/28 [==============================] - 1s 39ms/step - loss: 0.3519 - classifier_head_loss: 0.3375 - regressor_head_loss: 0.0144 - classifier_head_accuracy: 0.8650 - regressor_head_mse: 0.0144 - val_loss: 0.7013 - val_classifier_head_loss: 0.6859 - val_regressor_head_loss: 0.0155 - val_classifier_head_accuracy: 0.7031 - val_regressor_head_mse: 0.0155\n",
      "Epoch 20/100\n",
      "28/28 [==============================] - 1s 37ms/step - loss: 0.3403 - classifier_head_loss: 0.3267 - regressor_head_loss: 0.0136 - classifier_head_accuracy: 0.8672 - regressor_head_mse: 0.0136 - val_loss: 0.8580 - val_classifier_head_loss: 0.8445 - val_regressor_head_loss: 0.0134 - val_classifier_head_accuracy: 0.6875 - val_regressor_head_mse: 0.0134\n",
      "Epoch 21/100\n",
      "28/28 [==============================] - 1s 39ms/step - loss: 0.3137 - classifier_head_loss: 0.3004 - regressor_head_loss: 0.0133 - classifier_head_accuracy: 0.8717 - regressor_head_mse: 0.0133 - val_loss: 0.6909 - val_classifier_head_loss: 0.6768 - val_regressor_head_loss: 0.0141 - val_classifier_head_accuracy: 0.7031 - val_regressor_head_mse: 0.0141\n",
      "Epoch 22/100\n",
      "28/28 [==============================] - 1s 38ms/step - loss: 0.3545 - classifier_head_loss: 0.3407 - regressor_head_loss: 0.0139 - classifier_head_accuracy: 0.8650 - regressor_head_mse: 0.0139 - val_loss: 1.0775 - val_classifier_head_loss: 1.0616 - val_regressor_head_loss: 0.0159 - val_classifier_head_accuracy: 0.6406 - val_regressor_head_mse: 0.0159\n",
      "Epoch 23/100\n",
      "28/28 [==============================] - 1s 37ms/step - loss: 0.3375 - classifier_head_loss: 0.3239 - regressor_head_loss: 0.0137 - classifier_head_accuracy: 0.8650 - regressor_head_mse: 0.0137 - val_loss: 1.0672 - val_classifier_head_loss: 1.0503 - val_regressor_head_loss: 0.0169 - val_classifier_head_accuracy: 0.6250 - val_regressor_head_mse: 0.0169\n",
      "Epoch 24/100\n",
      "28/28 [==============================] - 1s 37ms/step - loss: 0.3264 - classifier_head_loss: 0.3136 - regressor_head_loss: 0.0128 - classifier_head_accuracy: 0.8761 - regressor_head_mse: 0.0128 - val_loss: 1.0239 - val_classifier_head_loss: 1.0061 - val_regressor_head_loss: 0.0178 - val_classifier_head_accuracy: 0.6250 - val_regressor_head_mse: 0.0178\n",
      "Epoch 25/100\n",
      "28/28 [==============================] - 1s 38ms/step - loss: 0.3127 - classifier_head_loss: 0.2993 - regressor_head_loss: 0.0133 - classifier_head_accuracy: 0.8783 - regressor_head_mse: 0.0133 - val_loss: 0.6418 - val_classifier_head_loss: 0.6283 - val_regressor_head_loss: 0.0135 - val_classifier_head_accuracy: 0.7344 - val_regressor_head_mse: 0.0135\n",
      "Epoch 26/100\n",
      "28/28 [==============================] - 1s 38ms/step - loss: 0.2879 - classifier_head_loss: 0.2739 - regressor_head_loss: 0.0140 - classifier_head_accuracy: 0.8906 - regressor_head_mse: 0.0140 - val_loss: 1.2342 - val_classifier_head_loss: 1.2170 - val_regressor_head_loss: 0.0172 - val_classifier_head_accuracy: 0.6406 - val_regressor_head_mse: 0.0172\n",
      "Epoch 27/100\n",
      "28/28 [==============================] - 1s 37ms/step - loss: 0.3106 - classifier_head_loss: 0.2981 - regressor_head_loss: 0.0125 - classifier_head_accuracy: 0.8694 - regressor_head_mse: 0.0125 - val_loss: 0.8727 - val_classifier_head_loss: 0.8560 - val_regressor_head_loss: 0.0167 - val_classifier_head_accuracy: 0.7031 - val_regressor_head_mse: 0.0167\n",
      "Epoch 28/100\n",
      "28/28 [==============================] - 1s 37ms/step - loss: 0.2889 - classifier_head_loss: 0.2757 - regressor_head_loss: 0.0131 - classifier_head_accuracy: 0.8828 - regressor_head_mse: 0.0131 - val_loss: 0.7650 - val_classifier_head_loss: 0.7493 - val_regressor_head_loss: 0.0157 - val_classifier_head_accuracy: 0.7031 - val_regressor_head_mse: 0.0157\n",
      "Epoch 29/100\n",
      "28/28 [==============================] - 1s 38ms/step - loss: 0.3143 - classifier_head_loss: 0.3018 - regressor_head_loss: 0.0125 - classifier_head_accuracy: 0.8817 - regressor_head_mse: 0.0125 - val_loss: 1.0457 - val_classifier_head_loss: 1.0296 - val_regressor_head_loss: 0.0161 - val_classifier_head_accuracy: 0.6562 - val_regressor_head_mse: 0.0161\n",
      "Epoch 30/100\n",
      "28/28 [==============================] - 1s 39ms/step - loss: 0.2853 - classifier_head_loss: 0.2720 - regressor_head_loss: 0.0133 - classifier_head_accuracy: 0.8884 - regressor_head_mse: 0.0133 - val_loss: 1.0443 - val_classifier_head_loss: 1.0288 - val_regressor_head_loss: 0.0156 - val_classifier_head_accuracy: 0.6094 - val_regressor_head_mse: 0.0156\n",
      "Epoch 31/100\n",
      "28/28 [==============================] - 1s 38ms/step - loss: 0.2850 - classifier_head_loss: 0.2723 - regressor_head_loss: 0.0127 - classifier_head_accuracy: 0.8884 - regressor_head_mse: 0.0127 - val_loss: 0.9763 - val_classifier_head_loss: 0.9624 - val_regressor_head_loss: 0.0139 - val_classifier_head_accuracy: 0.7031 - val_regressor_head_mse: 0.0139\n",
      "Epoch 32/100\n",
      "28/28 [==============================] - 1s 37ms/step - loss: 0.2962 - classifier_head_loss: 0.2819 - regressor_head_loss: 0.0143 - classifier_head_accuracy: 0.8839 - regressor_head_mse: 0.0143 - val_loss: 0.8749 - val_classifier_head_loss: 0.8593 - val_regressor_head_loss: 0.0156 - val_classifier_head_accuracy: 0.6719 - val_regressor_head_mse: 0.0156\n",
      "Epoch 33/100\n",
      "28/28 [==============================] - 1s 38ms/step - loss: 0.2804 - classifier_head_loss: 0.2666 - regressor_head_loss: 0.0138 - classifier_head_accuracy: 0.8806 - regressor_head_mse: 0.0138 - val_loss: 0.7857 - val_classifier_head_loss: 0.7688 - val_regressor_head_loss: 0.0169 - val_classifier_head_accuracy: 0.7188 - val_regressor_head_mse: 0.0169\n",
      "Epoch 34/100\n",
      "28/28 [==============================] - 1s 37ms/step - loss: 0.2649 - classifier_head_loss: 0.2526 - regressor_head_loss: 0.0123 - classifier_head_accuracy: 0.8929 - regressor_head_mse: 0.0123 - val_loss: 0.9367 - val_classifier_head_loss: 0.9225 - val_regressor_head_loss: 0.0142 - val_classifier_head_accuracy: 0.6875 - val_regressor_head_mse: 0.0142\n",
      "Epoch 35/100\n",
      "28/28 [==============================] - 1s 38ms/step - loss: 0.2716 - classifier_head_loss: 0.2590 - regressor_head_loss: 0.0126 - classifier_head_accuracy: 0.9074 - regressor_head_mse: 0.0126 - val_loss: 0.7018 - val_classifier_head_loss: 0.6857 - val_regressor_head_loss: 0.0161 - val_classifier_head_accuracy: 0.7188 - val_regressor_head_mse: 0.0161\n",
      "Epoch 36/100\n",
      "28/28 [==============================] - 1s 38ms/step - loss: 0.2777 - classifier_head_loss: 0.2656 - regressor_head_loss: 0.0121 - classifier_head_accuracy: 0.8828 - regressor_head_mse: 0.0121 - val_loss: 0.6811 - val_classifier_head_loss: 0.6669 - val_regressor_head_loss: 0.0142 - val_classifier_head_accuracy: 0.7500 - val_regressor_head_mse: 0.0142\n",
      "Epoch 37/100\n",
      "28/28 [==============================] - 1s 39ms/step - loss: 0.2495 - classifier_head_loss: 0.2376 - regressor_head_loss: 0.0119 - classifier_head_accuracy: 0.8996 - regressor_head_mse: 0.0119 - val_loss: 1.1026 - val_classifier_head_loss: 1.0781 - val_regressor_head_loss: 0.0245 - val_classifier_head_accuracy: 0.6406 - val_regressor_head_mse: 0.0245\n",
      "Epoch 38/100\n",
      "28/28 [==============================] - 1s 39ms/step - loss: 0.2611 - classifier_head_loss: 0.2488 - regressor_head_loss: 0.0122 - classifier_head_accuracy: 0.9040 - regressor_head_mse: 0.0122 - val_loss: 0.9630 - val_classifier_head_loss: 0.9435 - val_regressor_head_loss: 0.0195 - val_classifier_head_accuracy: 0.6719 - val_regressor_head_mse: 0.0195\n",
      "Epoch 39/100\n",
      "28/28 [==============================] - 1s 37ms/step - loss: 0.2471 - classifier_head_loss: 0.2343 - regressor_head_loss: 0.0128 - classifier_head_accuracy: 0.9074 - regressor_head_mse: 0.0128 - val_loss: 0.8662 - val_classifier_head_loss: 0.8540 - val_regressor_head_loss: 0.0122 - val_classifier_head_accuracy: 0.7344 - val_regressor_head_mse: 0.0122\n",
      "Epoch 40/100\n",
      "28/28 [==============================] - 1s 39ms/step - loss: 0.2379 - classifier_head_loss: 0.2262 - regressor_head_loss: 0.0117 - classifier_head_accuracy: 0.9152 - regressor_head_mse: 0.0117 - val_loss: 0.9859 - val_classifier_head_loss: 0.9698 - val_regressor_head_loss: 0.0160 - val_classifier_head_accuracy: 0.6406 - val_regressor_head_mse: 0.0160\n",
      "Epoch 41/100\n",
      "28/28 [==============================] - 1s 37ms/step - loss: 0.2616 - classifier_head_loss: 0.2494 - regressor_head_loss: 0.0122 - classifier_head_accuracy: 0.8806 - regressor_head_mse: 0.0122 - val_loss: 0.7882 - val_classifier_head_loss: 0.7715 - val_regressor_head_loss: 0.0167 - val_classifier_head_accuracy: 0.7500 - val_regressor_head_mse: 0.0167\n",
      "Epoch 42/100\n",
      "28/28 [==============================] - 1s 38ms/step - loss: 0.2666 - classifier_head_loss: 0.2551 - regressor_head_loss: 0.0115 - classifier_head_accuracy: 0.8984 - regressor_head_mse: 0.0115 - val_loss: 0.7388 - val_classifier_head_loss: 0.7232 - val_regressor_head_loss: 0.0156 - val_classifier_head_accuracy: 0.7031 - val_regressor_head_mse: 0.0156\n",
      "Epoch 43/100\n",
      "28/28 [==============================] - 1s 38ms/step - loss: 0.2437 - classifier_head_loss: 0.2322 - regressor_head_loss: 0.0114 - classifier_head_accuracy: 0.9007 - regressor_head_mse: 0.0114 - val_loss: 0.6624 - val_classifier_head_loss: 0.6458 - val_regressor_head_loss: 0.0166 - val_classifier_head_accuracy: 0.7344 - val_regressor_head_mse: 0.0166\n",
      "Epoch 44/100\n",
      "28/28 [==============================] - 1s 37ms/step - loss: 0.2326 - classifier_head_loss: 0.2209 - regressor_head_loss: 0.0116 - classifier_head_accuracy: 0.9129 - regressor_head_mse: 0.0116 - val_loss: 0.7440 - val_classifier_head_loss: 0.7271 - val_regressor_head_loss: 0.0169 - val_classifier_head_accuracy: 0.7188 - val_regressor_head_mse: 0.0169\n",
      "Epoch 45/100\n",
      "28/28 [==============================] - 1s 38ms/step - loss: 0.2550 - classifier_head_loss: 0.2431 - regressor_head_loss: 0.0120 - classifier_head_accuracy: 0.8929 - regressor_head_mse: 0.0120 - val_loss: 0.6565 - val_classifier_head_loss: 0.6443 - val_regressor_head_loss: 0.0122 - val_classifier_head_accuracy: 0.7500 - val_regressor_head_mse: 0.0122\n",
      "Epoch 46/100\n",
      "28/28 [==============================] - 1s 39ms/step - loss: 0.2771 - classifier_head_loss: 0.2661 - regressor_head_loss: 0.0110 - classifier_head_accuracy: 0.8962 - regressor_head_mse: 0.0110 - val_loss: 0.8140 - val_classifier_head_loss: 0.8009 - val_regressor_head_loss: 0.0131 - val_classifier_head_accuracy: 0.7500 - val_regressor_head_mse: 0.0131\n",
      "Epoch 47/100\n",
      "28/28 [==============================] - 1s 37ms/step - loss: 0.2524 - classifier_head_loss: 0.2402 - regressor_head_loss: 0.0122 - classifier_head_accuracy: 0.8973 - regressor_head_mse: 0.0122 - val_loss: 1.1166 - val_classifier_head_loss: 1.1028 - val_regressor_head_loss: 0.0138 - val_classifier_head_accuracy: 0.6406 - val_regressor_head_mse: 0.0138\n",
      "Epoch 48/100\n",
      "28/28 [==============================] - 1s 38ms/step - loss: 0.2597 - classifier_head_loss: 0.2483 - regressor_head_loss: 0.0115 - classifier_head_accuracy: 0.9074 - regressor_head_mse: 0.0115 - val_loss: 0.7586 - val_classifier_head_loss: 0.7451 - val_regressor_head_loss: 0.0135 - val_classifier_head_accuracy: 0.7188 - val_regressor_head_mse: 0.0135\n",
      "Epoch 49/100\n",
      "28/28 [==============================] - 1s 37ms/step - loss: 0.2481 - classifier_head_loss: 0.2356 - regressor_head_loss: 0.0125 - classifier_head_accuracy: 0.9007 - regressor_head_mse: 0.0125 - val_loss: 0.7514 - val_classifier_head_loss: 0.7395 - val_regressor_head_loss: 0.0119 - val_classifier_head_accuracy: 0.7812 - val_regressor_head_mse: 0.0119\n",
      "Epoch 50/100\n",
      "28/28 [==============================] - 1s 37ms/step - loss: 0.2065 - classifier_head_loss: 0.1951 - regressor_head_loss: 0.0113 - classifier_head_accuracy: 0.9353 - regressor_head_mse: 0.0113 - val_loss: 1.3819 - val_classifier_head_loss: 1.3658 - val_regressor_head_loss: 0.0161 - val_classifier_head_accuracy: 0.6406 - val_regressor_head_mse: 0.0161\n",
      "Epoch 51/100\n",
      "28/28 [==============================] - 1s 39ms/step - loss: 0.2269 - classifier_head_loss: 0.2161 - regressor_head_loss: 0.0109 - classifier_head_accuracy: 0.9152 - regressor_head_mse: 0.0109 - val_loss: 0.8402 - val_classifier_head_loss: 0.8234 - val_regressor_head_loss: 0.0168 - val_classifier_head_accuracy: 0.7031 - val_regressor_head_mse: 0.0168\n",
      "Epoch 52/100\n",
      "28/28 [==============================] - 1s 37ms/step - loss: 0.2220 - classifier_head_loss: 0.2115 - regressor_head_loss: 0.0105 - classifier_head_accuracy: 0.9141 - regressor_head_mse: 0.0105 - val_loss: 1.2234 - val_classifier_head_loss: 1.2008 - val_regressor_head_loss: 0.0226 - val_classifier_head_accuracy: 0.6875 - val_regressor_head_mse: 0.0226\n",
      "Epoch 53/100\n",
      "28/28 [==============================] - 1s 39ms/step - loss: 0.2407 - classifier_head_loss: 0.2299 - regressor_head_loss: 0.0108 - classifier_head_accuracy: 0.8940 - regressor_head_mse: 0.0108 - val_loss: 0.8798 - val_classifier_head_loss: 0.8668 - val_regressor_head_loss: 0.0131 - val_classifier_head_accuracy: 0.6719 - val_regressor_head_mse: 0.0131\n",
      "Epoch 54/100\n",
      "28/28 [==============================] - 1s 39ms/step - loss: 0.2304 - classifier_head_loss: 0.2196 - regressor_head_loss: 0.0108 - classifier_head_accuracy: 0.9118 - regressor_head_mse: 0.0108 - val_loss: 0.7012 - val_classifier_head_loss: 0.6873 - val_regressor_head_loss: 0.0139 - val_classifier_head_accuracy: 0.7500 - val_regressor_head_mse: 0.0139\n",
      "Epoch 55/100\n",
      "28/28 [==============================] - 1s 38ms/step - loss: 0.2099 - classifier_head_loss: 0.1993 - regressor_head_loss: 0.0106 - classifier_head_accuracy: 0.9208 - regressor_head_mse: 0.0106 - val_loss: 1.1845 - val_classifier_head_loss: 1.1583 - val_regressor_head_loss: 0.0262 - val_classifier_head_accuracy: 0.6562 - val_regressor_head_mse: 0.0262\n",
      "Epoch 56/100\n",
      "28/28 [==============================] - 1s 38ms/step - loss: 0.2036 - classifier_head_loss: 0.1932 - regressor_head_loss: 0.0104 - classifier_head_accuracy: 0.9219 - regressor_head_mse: 0.0104 - val_loss: 0.9003 - val_classifier_head_loss: 0.8843 - val_regressor_head_loss: 0.0160 - val_classifier_head_accuracy: 0.7188 - val_regressor_head_mse: 0.0160\n",
      "Epoch 57/100\n",
      "28/28 [==============================] - 1s 38ms/step - loss: 0.2211 - classifier_head_loss: 0.2112 - regressor_head_loss: 0.0099 - classifier_head_accuracy: 0.9174 - regressor_head_mse: 0.0099 - val_loss: 0.7317 - val_classifier_head_loss: 0.7101 - val_regressor_head_loss: 0.0215 - val_classifier_head_accuracy: 0.7031 - val_regressor_head_mse: 0.0215\n",
      "Epoch 58/100\n",
      "28/28 [==============================] - 1s 37ms/step - loss: 0.1795 - classifier_head_loss: 0.1681 - regressor_head_loss: 0.0114 - classifier_head_accuracy: 0.9297 - regressor_head_mse: 0.0114 - val_loss: 1.0049 - val_classifier_head_loss: 0.9765 - val_regressor_head_loss: 0.0284 - val_classifier_head_accuracy: 0.7188 - val_regressor_head_mse: 0.0284\n",
      "Epoch 59/100\n",
      "28/28 [==============================] - 1s 37ms/step - loss: 0.1959 - classifier_head_loss: 0.1852 - regressor_head_loss: 0.0108 - classifier_head_accuracy: 0.9263 - regressor_head_mse: 0.0108 - val_loss: 1.5435 - val_classifier_head_loss: 1.5280 - val_regressor_head_loss: 0.0155 - val_classifier_head_accuracy: 0.6562 - val_regressor_head_mse: 0.0155\n",
      "Epoch 60/100\n",
      "28/28 [==============================] - 1s 36ms/step - loss: 0.2201 - classifier_head_loss: 0.2100 - regressor_head_loss: 0.0101 - classifier_head_accuracy: 0.9096 - regressor_head_mse: 0.0101 - val_loss: 0.9086 - val_classifier_head_loss: 0.8916 - val_regressor_head_loss: 0.0170 - val_classifier_head_accuracy: 0.6719 - val_regressor_head_mse: 0.0170\n",
      "Epoch 61/100\n",
      "28/28 [==============================] - 1s 37ms/step - loss: 0.1954 - classifier_head_loss: 0.1847 - regressor_head_loss: 0.0106 - classifier_head_accuracy: 0.9252 - regressor_head_mse: 0.0106 - val_loss: 0.7597 - val_classifier_head_loss: 0.7446 - val_regressor_head_loss: 0.0151 - val_classifier_head_accuracy: 0.7500 - val_regressor_head_mse: 0.0151\n",
      "Epoch 62/100\n",
      "28/28 [==============================] - 1s 36ms/step - loss: 0.1938 - classifier_head_loss: 0.1833 - regressor_head_loss: 0.0105 - classifier_head_accuracy: 0.9308 - regressor_head_mse: 0.0105 - val_loss: 1.1150 - val_classifier_head_loss: 1.1027 - val_regressor_head_loss: 0.0123 - val_classifier_head_accuracy: 0.7031 - val_regressor_head_mse: 0.0123\n",
      "Epoch 63/100\n",
      "28/28 [==============================] - 1s 37ms/step - loss: 0.1798 - classifier_head_loss: 0.1694 - regressor_head_loss: 0.0104 - classifier_head_accuracy: 0.9241 - regressor_head_mse: 0.0104 - val_loss: 1.1721 - val_classifier_head_loss: 1.1554 - val_regressor_head_loss: 0.0166 - val_classifier_head_accuracy: 0.6719 - val_regressor_head_mse: 0.0166\n",
      "Epoch 64/100\n",
      "28/28 [==============================] - 1s 37ms/step - loss: 0.2068 - classifier_head_loss: 0.1965 - regressor_head_loss: 0.0103 - classifier_head_accuracy: 0.9196 - regressor_head_mse: 0.0103 - val_loss: 0.7788 - val_classifier_head_loss: 0.7642 - val_regressor_head_loss: 0.0146 - val_classifier_head_accuracy: 0.6719 - val_regressor_head_mse: 0.0146\n",
      "Epoch 65/100\n",
      "28/28 [==============================] - 1s 38ms/step - loss: 0.1823 - classifier_head_loss: 0.1729 - regressor_head_loss: 0.0095 - classifier_head_accuracy: 0.9342 - regressor_head_mse: 0.0095 - val_loss: 1.0510 - val_classifier_head_loss: 1.0347 - val_regressor_head_loss: 0.0163 - val_classifier_head_accuracy: 0.7188 - val_regressor_head_mse: 0.0163\n",
      "Epoch 66/100\n",
      "28/28 [==============================] - 1s 38ms/step - loss: 0.1797 - classifier_head_loss: 0.1696 - regressor_head_loss: 0.0101 - classifier_head_accuracy: 0.9364 - regressor_head_mse: 0.0101 - val_loss: 0.8087 - val_classifier_head_loss: 0.7938 - val_regressor_head_loss: 0.0149 - val_classifier_head_accuracy: 0.7031 - val_regressor_head_mse: 0.0149\n",
      "Epoch 67/100\n",
      "28/28 [==============================] - 1s 37ms/step - loss: 0.1911 - classifier_head_loss: 0.1814 - regressor_head_loss: 0.0097 - classifier_head_accuracy: 0.9163 - regressor_head_mse: 0.0097 - val_loss: 1.4413 - val_classifier_head_loss: 1.4255 - val_regressor_head_loss: 0.0158 - val_classifier_head_accuracy: 0.6562 - val_regressor_head_mse: 0.0158\n",
      "Epoch 68/100\n",
      "28/28 [==============================] - 1s 37ms/step - loss: 0.1787 - classifier_head_loss: 0.1691 - regressor_head_loss: 0.0096 - classifier_head_accuracy: 0.9319 - regressor_head_mse: 0.0096 - val_loss: 1.1397 - val_classifier_head_loss: 1.1262 - val_regressor_head_loss: 0.0135 - val_classifier_head_accuracy: 0.6562 - val_regressor_head_mse: 0.0135\n",
      "Epoch 69/100\n",
      "28/28 [==============================] - 1s 37ms/step - loss: 0.1949 - classifier_head_loss: 0.1849 - regressor_head_loss: 0.0100 - classifier_head_accuracy: 0.9230 - regressor_head_mse: 0.0100 - val_loss: 1.1254 - val_classifier_head_loss: 1.1109 - val_regressor_head_loss: 0.0144 - val_classifier_head_accuracy: 0.6875 - val_regressor_head_mse: 0.0144\n",
      "Epoch 70/100\n",
      "28/28 [==============================] - 1s 39ms/step - loss: 0.1664 - classifier_head_loss: 0.1571 - regressor_head_loss: 0.0093 - classifier_head_accuracy: 0.9319 - regressor_head_mse: 0.0093 - val_loss: 1.0669 - val_classifier_head_loss: 1.0518 - val_regressor_head_loss: 0.0150 - val_classifier_head_accuracy: 0.7344 - val_regressor_head_mse: 0.0150\n",
      "Epoch 71/100\n",
      "28/28 [==============================] - 1s 37ms/step - loss: 0.1821 - classifier_head_loss: 0.1728 - regressor_head_loss: 0.0093 - classifier_head_accuracy: 0.9308 - regressor_head_mse: 0.0093 - val_loss: 0.8338 - val_classifier_head_loss: 0.8096 - val_regressor_head_loss: 0.0241 - val_classifier_head_accuracy: 0.6875 - val_regressor_head_mse: 0.0241\n",
      "Epoch 72/100\n",
      "28/28 [==============================] - 1s 38ms/step - loss: 0.2004 - classifier_head_loss: 0.1898 - regressor_head_loss: 0.0106 - classifier_head_accuracy: 0.9319 - regressor_head_mse: 0.0106 - val_loss: 0.7600 - val_classifier_head_loss: 0.7451 - val_regressor_head_loss: 0.0150 - val_classifier_head_accuracy: 0.7500 - val_regressor_head_mse: 0.0150\n",
      "Epoch 73/100\n",
      "28/28 [==============================] - 1s 37ms/step - loss: 0.1592 - classifier_head_loss: 0.1496 - regressor_head_loss: 0.0096 - classifier_head_accuracy: 0.9342 - regressor_head_mse: 0.0096 - val_loss: 0.9407 - val_classifier_head_loss: 0.9202 - val_regressor_head_loss: 0.0205 - val_classifier_head_accuracy: 0.7188 - val_regressor_head_mse: 0.0205\n",
      "Epoch 74/100\n",
      "28/28 [==============================] - 1s 38ms/step - loss: 0.1413 - classifier_head_loss: 0.1317 - regressor_head_loss: 0.0096 - classifier_head_accuracy: 0.9531 - regressor_head_mse: 0.0096 - val_loss: 1.3053 - val_classifier_head_loss: 1.2875 - val_regressor_head_loss: 0.0177 - val_classifier_head_accuracy: 0.7188 - val_regressor_head_mse: 0.0177\n",
      "Epoch 75/100\n",
      "28/28 [==============================] - 1s 37ms/step - loss: 0.1579 - classifier_head_loss: 0.1487 - regressor_head_loss: 0.0092 - classifier_head_accuracy: 0.9453 - regressor_head_mse: 0.0092 - val_loss: 0.7236 - val_classifier_head_loss: 0.7073 - val_regressor_head_loss: 0.0163 - val_classifier_head_accuracy: 0.7188 - val_regressor_head_mse: 0.0163\n",
      "Epoch 76/100\n",
      "28/28 [==============================] - 1s 38ms/step - loss: 0.1497 - classifier_head_loss: 0.1400 - regressor_head_loss: 0.0097 - classifier_head_accuracy: 0.9520 - regressor_head_mse: 0.0097 - val_loss: 1.0906 - val_classifier_head_loss: 1.0784 - val_regressor_head_loss: 0.0122 - val_classifier_head_accuracy: 0.7500 - val_regressor_head_mse: 0.0122\n",
      "Epoch 77/100\n",
      "28/28 [==============================] - 1s 37ms/step - loss: 0.1422 - classifier_head_loss: 0.1325 - regressor_head_loss: 0.0097 - classifier_head_accuracy: 0.9408 - regressor_head_mse: 0.0097 - val_loss: 0.9508 - val_classifier_head_loss: 0.9357 - val_regressor_head_loss: 0.0151 - val_classifier_head_accuracy: 0.7344 - val_regressor_head_mse: 0.0151\n",
      "Epoch 78/100\n",
      "28/28 [==============================] - 1s 37ms/step - loss: 0.1773 - classifier_head_loss: 0.1681 - regressor_head_loss: 0.0092 - classifier_head_accuracy: 0.9263 - regressor_head_mse: 0.0092 - val_loss: 1.3119 - val_classifier_head_loss: 1.2926 - val_regressor_head_loss: 0.0193 - val_classifier_head_accuracy: 0.7031 - val_regressor_head_mse: 0.0193\n",
      "Epoch 79/100\n",
      "28/28 [==============================] - 1s 37ms/step - loss: 0.1724 - classifier_head_loss: 0.1631 - regressor_head_loss: 0.0093 - classifier_head_accuracy: 0.9263 - regressor_head_mse: 0.0093 - val_loss: 0.7830 - val_classifier_head_loss: 0.7670 - val_regressor_head_loss: 0.0161 - val_classifier_head_accuracy: 0.7500 - val_regressor_head_mse: 0.0161\n",
      "Epoch 80/100\n",
      "28/28 [==============================] - 1s 37ms/step - loss: 0.1448 - classifier_head_loss: 0.1358 - regressor_head_loss: 0.0090 - classifier_head_accuracy: 0.9520 - regressor_head_mse: 0.0090 - val_loss: 1.1805 - val_classifier_head_loss: 1.1649 - val_regressor_head_loss: 0.0156 - val_classifier_head_accuracy: 0.7188 - val_regressor_head_mse: 0.0156\n",
      "Epoch 81/100\n",
      "28/28 [==============================] - 1s 38ms/step - loss: 0.1428 - classifier_head_loss: 0.1338 - regressor_head_loss: 0.0090 - classifier_head_accuracy: 0.9475 - regressor_head_mse: 0.0090 - val_loss: 0.8910 - val_classifier_head_loss: 0.8772 - val_regressor_head_loss: 0.0139 - val_classifier_head_accuracy: 0.7188 - val_regressor_head_mse: 0.0139\n",
      "Epoch 82/100\n",
      "28/28 [==============================] - 1s 37ms/step - loss: 0.1469 - classifier_head_loss: 0.1382 - regressor_head_loss: 0.0087 - classifier_head_accuracy: 0.9431 - regressor_head_mse: 0.0087 - val_loss: 1.3052 - val_classifier_head_loss: 1.2927 - val_regressor_head_loss: 0.0125 - val_classifier_head_accuracy: 0.6875 - val_regressor_head_mse: 0.0125\n",
      "Epoch 83/100\n",
      "28/28 [==============================] - 1s 38ms/step - loss: 0.1546 - classifier_head_loss: 0.1458 - regressor_head_loss: 0.0088 - classifier_head_accuracy: 0.9464 - regressor_head_mse: 0.0088 - val_loss: 1.0534 - val_classifier_head_loss: 1.0393 - val_regressor_head_loss: 0.0141 - val_classifier_head_accuracy: 0.7656 - val_regressor_head_mse: 0.0141\n",
      "Epoch 84/100\n",
      "28/28 [==============================] - 1s 36ms/step - loss: 0.1458 - classifier_head_loss: 0.1368 - regressor_head_loss: 0.0090 - classifier_head_accuracy: 0.9408 - regressor_head_mse: 0.0090 - val_loss: 1.1265 - val_classifier_head_loss: 1.1069 - val_regressor_head_loss: 0.0197 - val_classifier_head_accuracy: 0.6562 - val_regressor_head_mse: 0.0197\n",
      "Epoch 85/100\n",
      "28/28 [==============================] - 1s 52ms/step - loss: 0.1597 - classifier_head_loss: 0.1508 - regressor_head_loss: 0.0089 - classifier_head_accuracy: 0.9353 - regressor_head_mse: 0.0089 - val_loss: 0.8129 - val_classifier_head_loss: 0.7985 - val_regressor_head_loss: 0.0145 - val_classifier_head_accuracy: 0.7500 - val_regressor_head_mse: 0.0145\n",
      "Epoch 86/100\n",
      "28/28 [==============================] - 1s 40ms/step - loss: 0.1164 - classifier_head_loss: 0.1073 - regressor_head_loss: 0.0091 - classifier_head_accuracy: 0.9643 - regressor_head_mse: 0.0091 - val_loss: 1.0225 - val_classifier_head_loss: 1.0053 - val_regressor_head_loss: 0.0172 - val_classifier_head_accuracy: 0.7344 - val_regressor_head_mse: 0.0172\n",
      "Epoch 87/100\n",
      "28/28 [==============================] - 1s 50ms/step - loss: 0.1501 - classifier_head_loss: 0.1410 - regressor_head_loss: 0.0090 - classifier_head_accuracy: 0.9453 - regressor_head_mse: 0.0090 - val_loss: 0.7449 - val_classifier_head_loss: 0.7283 - val_regressor_head_loss: 0.0166 - val_classifier_head_accuracy: 0.7188 - val_regressor_head_mse: 0.0166\n",
      "Epoch 88/100\n",
      "28/28 [==============================] - 1s 37ms/step - loss: 0.1536 - classifier_head_loss: 0.1443 - regressor_head_loss: 0.0093 - classifier_head_accuracy: 0.9431 - regressor_head_mse: 0.0093 - val_loss: 0.7994 - val_classifier_head_loss: 0.7872 - val_regressor_head_loss: 0.0122 - val_classifier_head_accuracy: 0.7500 - val_regressor_head_mse: 0.0122\n",
      "Epoch 89/100\n",
      "28/28 [==============================] - 1s 38ms/step - loss: 0.1758 - classifier_head_loss: 0.1664 - regressor_head_loss: 0.0094 - classifier_head_accuracy: 0.9342 - regressor_head_mse: 0.0094 - val_loss: 1.5518 - val_classifier_head_loss: 1.5335 - val_regressor_head_loss: 0.0183 - val_classifier_head_accuracy: 0.6406 - val_regressor_head_mse: 0.0183\n",
      "Epoch 90/100\n",
      "28/28 [==============================] - 1s 37ms/step - loss: 0.1504 - classifier_head_loss: 0.1411 - regressor_head_loss: 0.0093 - classifier_head_accuracy: 0.9464 - regressor_head_mse: 0.0093 - val_loss: 1.0157 - val_classifier_head_loss: 0.9993 - val_regressor_head_loss: 0.0163 - val_classifier_head_accuracy: 0.7344 - val_regressor_head_mse: 0.0163\n",
      "Epoch 91/100\n",
      "28/28 [==============================] - 1s 38ms/step - loss: 0.1411 - classifier_head_loss: 0.1325 - regressor_head_loss: 0.0087 - classifier_head_accuracy: 0.9487 - regressor_head_mse: 0.0087 - val_loss: 1.4745 - val_classifier_head_loss: 1.4543 - val_regressor_head_loss: 0.0202 - val_classifier_head_accuracy: 0.7344 - val_regressor_head_mse: 0.0202\n",
      "Epoch 92/100\n",
      "28/28 [==============================] - 1s 38ms/step - loss: 0.1444 - classifier_head_loss: 0.1353 - regressor_head_loss: 0.0092 - classifier_head_accuracy: 0.9420 - regressor_head_mse: 0.0092 - val_loss: 1.1649 - val_classifier_head_loss: 1.1511 - val_regressor_head_loss: 0.0139 - val_classifier_head_accuracy: 0.7188 - val_regressor_head_mse: 0.0139\n",
      "Epoch 93/100\n",
      "28/28 [==============================] - 1s 37ms/step - loss: 0.1364 - classifier_head_loss: 0.1279 - regressor_head_loss: 0.0084 - classifier_head_accuracy: 0.9565 - regressor_head_mse: 0.0084 - val_loss: 0.9073 - val_classifier_head_loss: 0.8883 - val_regressor_head_loss: 0.0190 - val_classifier_head_accuracy: 0.7031 - val_regressor_head_mse: 0.0190\n",
      "Epoch 94/100\n",
      "28/28 [==============================] - 1s 38ms/step - loss: 0.1803 - classifier_head_loss: 0.1711 - regressor_head_loss: 0.0092 - classifier_head_accuracy: 0.9386 - regressor_head_mse: 0.0092 - val_loss: 0.9212 - val_classifier_head_loss: 0.9053 - val_regressor_head_loss: 0.0159 - val_classifier_head_accuracy: 0.7188 - val_regressor_head_mse: 0.0159\n",
      "Epoch 95/100\n",
      "28/28 [==============================] - 1s 38ms/step - loss: 0.1462 - classifier_head_loss: 0.1370 - regressor_head_loss: 0.0092 - classifier_head_accuracy: 0.9453 - regressor_head_mse: 0.0092 - val_loss: 0.9340 - val_classifier_head_loss: 0.9183 - val_regressor_head_loss: 0.0157 - val_classifier_head_accuracy: 0.7344 - val_regressor_head_mse: 0.0157\n",
      "Epoch 96/100\n",
      "28/28 [==============================] - 1s 37ms/step - loss: 0.1050 - classifier_head_loss: 0.0960 - regressor_head_loss: 0.0089 - classifier_head_accuracy: 0.9609 - regressor_head_mse: 0.0089 - val_loss: 0.8964 - val_classifier_head_loss: 0.8813 - val_regressor_head_loss: 0.0151 - val_classifier_head_accuracy: 0.7344 - val_regressor_head_mse: 0.0151\n",
      "Epoch 97/100\n",
      "28/28 [==============================] - 1s 38ms/step - loss: 0.1145 - classifier_head_loss: 0.1057 - regressor_head_loss: 0.0088 - classifier_head_accuracy: 0.9554 - regressor_head_mse: 0.0088 - val_loss: 1.0349 - val_classifier_head_loss: 1.0168 - val_regressor_head_loss: 0.0181 - val_classifier_head_accuracy: 0.7031 - val_regressor_head_mse: 0.0181\n",
      "Epoch 98/100\n",
      "28/28 [==============================] - 1s 38ms/step - loss: 0.1073 - classifier_head_loss: 0.0989 - regressor_head_loss: 0.0084 - classifier_head_accuracy: 0.9609 - regressor_head_mse: 0.0084 - val_loss: 1.0957 - val_classifier_head_loss: 1.0806 - val_regressor_head_loss: 0.0151 - val_classifier_head_accuracy: 0.6719 - val_regressor_head_mse: 0.0151\n",
      "Epoch 99/100\n",
      "28/28 [==============================] - 1s 37ms/step - loss: 0.1028 - classifier_head_loss: 0.0934 - regressor_head_loss: 0.0094 - classifier_head_accuracy: 0.9676 - regressor_head_mse: 0.0094 - val_loss: 1.2916 - val_classifier_head_loss: 1.2742 - val_regressor_head_loss: 0.0174 - val_classifier_head_accuracy: 0.6875 - val_regressor_head_mse: 0.0174\n",
      "Epoch 100/100\n",
      "28/28 [==============================] - 1s 38ms/step - loss: 0.1265 - classifier_head_loss: 0.1174 - regressor_head_loss: 0.0091 - classifier_head_accuracy: 0.9598 - regressor_head_mse: 0.0091 - val_loss: 1.0433 - val_classifier_head_loss: 1.0232 - val_regressor_head_loss: 0.0200 - val_classifier_head_accuracy: 0.6875 - val_regressor_head_mse: 0.0200\n"
     ]
    }
   ],
   "execution_count": 33
  },
  {
   "metadata": {
    "ExecuteTime": {
     "end_time": "2025-06-30T17:53:44.553927Z",
     "start_time": "2025-06-30T17:53:44.416942Z"
    }
   },
   "cell_type": "code",
   "source": "model.save('mask_detector.h5')",
   "id": "e07b1a6d1bf37556",
   "outputs": [],
   "execution_count": 34
  }
 ],
 "metadata": {
  "kernelspec": {
   "display_name": "Python 3",
   "language": "python",
   "name": "python3"
  },
  "language_info": {
   "codemirror_mode": {
    "name": "ipython",
    "version": 2
   },
   "file_extension": ".py",
   "mimetype": "text/x-python",
   "name": "python",
   "nbconvert_exporter": "python",
   "pygments_lexer": "ipython2",
   "version": "2.7.6"
  }
 },
 "nbformat": 4,
 "nbformat_minor": 5
}
